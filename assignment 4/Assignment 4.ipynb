{
 "cells": [
  {
   "cell_type": "markdown",
   "id": "c8049b08",
   "metadata": {},
   "source": [
    "# 1. What exactly is [ ]?"
   ]
  },
  {
   "cell_type": "raw",
   "id": "91702b03",
   "metadata": {},
   "source": [
    "we call it is an empty list."
   ]
  },
  {
   "cell_type": "markdown",
   "id": "ce221fb8",
   "metadata": {},
   "source": [
    "# 2. In a list of values stored in a variable called spam, how would you assign the value 'hello' as the third value? (Assume [2, 4, 6, 8, 10] are in spam.)\n"
   ]
  },
  {
   "cell_type": "raw",
   "id": "348ba8da",
   "metadata": {},
   "source": [
    "spam[2] = \"hello\" # if we are assiging it. if we want to insert it we have to use insert command\n",
    "\n",
    "I started the count from 0"
   ]
  },
  {
   "cell_type": "markdown",
   "id": "c4e0330f",
   "metadata": {},
   "source": [
    "# 3. What is the value of spam[int(int('3' * 2) / 11)]?"
   ]
  },
  {
   "cell_type": "raw",
   "id": "95c4e6da",
   "metadata": {},
   "source": [
    "spam[int(int('3' * 2) / 11)] is 8"
   ]
  },
  {
   "cell_type": "markdown",
   "id": "55fb10df",
   "metadata": {},
   "source": [
    "# 4. What is the value of spam[-1]?"
   ]
  },
  {
   "cell_type": "raw",
   "id": "d35ab6e0",
   "metadata": {},
   "source": [
    "spam[-1] is 10"
   ]
  },
  {
   "cell_type": "markdown",
   "id": "b0413aa6",
   "metadata": {},
   "source": [
    "# 5. What is the value of spam[:2]?"
   ]
  },
  {
   "cell_type": "raw",
   "id": "41c05b0d",
   "metadata": {},
   "source": [
    "spam[:2] is [2, 4]"
   ]
  },
  {
   "cell_type": "markdown",
   "id": "baf17b5b",
   "metadata": {},
   "source": [
    "# Let's pretend bacon has the list [3.14, 'cat,' 11, 'cat,' True] for the next three questions."
   ]
  },
  {
   "cell_type": "code",
   "execution_count": 164,
   "id": "e46b78ea",
   "metadata": {},
   "outputs": [],
   "source": [
    "bacon = [3.14, 'cat', 11, 'cat', True]"
   ]
  },
  {
   "cell_type": "markdown",
   "id": "b46457ab",
   "metadata": {},
   "source": [
    "# 6. What is the value of bacon.index('cat')?"
   ]
  },
  {
   "cell_type": "raw",
   "id": "a334e7a5",
   "metadata": {},
   "source": [
    "bacon.index('cat') is 1"
   ]
  },
  {
   "cell_type": "markdown",
   "id": "0f39f24f",
   "metadata": {},
   "source": [
    "# 7. How does bacon.append(99) change the look of the list value in bacon?"
   ]
  },
  {
   "cell_type": "raw",
   "id": "fefa07cd",
   "metadata": {},
   "source": [
    "[3.14, 'cat', 11, 'cat', True, 99]"
   ]
  },
  {
   "cell_type": "markdown",
   "id": "55bc3d75",
   "metadata": {},
   "source": [
    "# 8. How does bacon.remove('cat') change the look of the list in bacon?"
   ]
  },
  {
   "cell_type": "raw",
   "id": "e869f8c0",
   "metadata": {},
   "source": [
    "[3.14, 11, 'cat', True, 99]"
   ]
  },
  {
   "cell_type": "markdown",
   "id": "e0b1f8b0",
   "metadata": {},
   "source": [
    "# 9. What are the list concatenation and list replication operators?"
   ]
  },
  {
   "cell_type": "raw",
   "id": "268dfd0b",
   "metadata": {},
   "source": [
    "Adding two list is string concatenation. we use \"+\" operator to add it. refer the example\n",
    "Multiplation of list is list replication. we use \"*\" operator to multiply it. refer the example"
   ]
  },
  {
   "cell_type": "code",
   "execution_count": 165,
   "id": "b0743453",
   "metadata": {},
   "outputs": [],
   "source": [
    "spam =  [2, 4, 6, 8, 10]"
   ]
  },
  {
   "cell_type": "code",
   "execution_count": 166,
   "id": "f2ed6381",
   "metadata": {},
   "outputs": [],
   "source": [
    "bacon = [3.14, 'cat', 11, 'cat', True]"
   ]
  },
  {
   "cell_type": "code",
   "execution_count": 167,
   "id": "8843109a",
   "metadata": {},
   "outputs": [
    {
     "data": {
      "text/plain": [
       "[2, 4, 6, 8, 10, 3.14, 'cat', 11, 'cat', True]"
      ]
     },
     "execution_count": 167,
     "metadata": {},
     "output_type": "execute_result"
    }
   ],
   "source": [
    "spam + bacon # list concatenation"
   ]
  },
  {
   "cell_type": "code",
   "execution_count": 168,
   "id": "3b6710df",
   "metadata": {},
   "outputs": [
    {
     "data": {
      "text/plain": [
       "[2, 4, 6, 8, 10, 2, 4, 6, 8, 10, 2, 4, 6, 8, 10]"
      ]
     },
     "execution_count": 168,
     "metadata": {},
     "output_type": "execute_result"
    }
   ],
   "source": [
    "spam * 3 # list replication"
   ]
  },
  {
   "cell_type": "markdown",
   "id": "e7d09809",
   "metadata": {},
   "source": [
    "# 10. What is difference between the list methods append() and insert()?\n"
   ]
  },
  {
   "cell_type": "raw",
   "id": "a12f3669",
   "metadata": {},
   "source": [
    "1.append will add the elements to end of the list which is -1 index\n",
    "2.insert will add the elements at required position of list\n",
    "\n",
    "spam.append(100) \n",
    "spam.insert(0, \"anees\")"
   ]
  },
  {
   "cell_type": "markdown",
   "id": "13d1c55e",
   "metadata": {},
   "source": [
    "# 11. What are the two methods for removing items from a list?\n"
   ]
  },
  {
   "cell_type": "raw",
   "id": "7b1edd7b",
   "metadata": {},
   "source": [
    "del spam[0] # we have to mention the index\n",
    "spam.remove(8) # we have to mention the value"
   ]
  },
  {
   "cell_type": "markdown",
   "id": "3da63f26",
   "metadata": {},
   "source": [
    "# 12. Describe how list values and string values are identical."
   ]
  },
  {
   "cell_type": "raw",
   "id": "c10ee8b4",
   "metadata": {},
   "source": [
    "1.Both are iterable. we have this method('__iter__') in both data type\n",
    "2.we can use both in for loop\n",
    "3.we can access element by indexing"
   ]
  },
  {
   "cell_type": "markdown",
   "id": "05b8a8bf",
   "metadata": {},
   "source": [
    "# 13. What's the difference between tuples and lists?\n"
   ]
  },
  {
   "cell_type": "raw",
   "id": "2130a754",
   "metadata": {},
   "source": [
    "list is mutable while tuple is unmutable. \n",
    "\n",
    "LIST: we can change or update the value without updating its memory location\n",
    "TUPLES: we cant change or update the values in tuples directly but we have some workarounds to update it but we cant change it without updating its memory location"
   ]
  },
  {
   "cell_type": "markdown",
   "id": "f79bbf7a",
   "metadata": {},
   "source": [
    "# 14. How do you type a tuple value that only contains the integer 42?"
   ]
  },
  {
   "cell_type": "raw",
   "id": "42896901",
   "metadata": {},
   "source": [
    "t = (42, )"
   ]
  },
  {
   "cell_type": "markdown",
   "id": "d99c3922",
   "metadata": {},
   "source": [
    "# 15. How do you get a list value's tuple form? How do you get a tuple value's list form?"
   ]
  },
  {
   "cell_type": "code",
   "execution_count": 169,
   "id": "573abaf1",
   "metadata": {},
   "outputs": [],
   "source": [
    "t = ([1, 3, 4, 5], ) # list value tuple form"
   ]
  },
  {
   "cell_type": "code",
   "execution_count": 170,
   "id": "567d986e",
   "metadata": {},
   "outputs": [],
   "source": [
    "l = [(2, 3, 4, 4)] # Tuple value list form"
   ]
  },
  {
   "cell_type": "markdown",
   "id": "6b2eaee2",
   "metadata": {},
   "source": [
    "# 16. Variables that \"contain\" list values are not necessarily lists themselves. Instead, what do they contain?"
   ]
  },
  {
   "cell_type": "raw",
   "id": "fd8aae04",
   "metadata": {},
   "source": [
    "It refers to list object in memory or we can say it as pointer. it we change anything in new variable it will also reflect in old variable"
   ]
  },
  {
   "cell_type": "markdown",
   "id": "e71344ff",
   "metadata": {},
   "source": [
    "# 17. How do you distinguish between copy.copy() and copy.deepcopy()?"
   ]
  },
  {
   "cell_type": "raw",
   "id": "5b435843",
   "metadata": {},
   "source": [
    "copy.copy can copy elements of list independently but if it contains nested list it cant copy independenetly for example if i change anything in the new list list it will affect the original list also. so we have to knock the door of deep copy. It copies everything independently"
   ]
  },
  {
   "cell_type": "markdown",
   "id": "5e9db2fc",
   "metadata": {},
   "source": [
    "### copy.copy()"
   ]
  },
  {
   "cell_type": "code",
   "execution_count": 171,
   "id": "1478bc1c",
   "metadata": {},
   "outputs": [],
   "source": [
    "original_l = [1, 2, 3, 4, 5]"
   ]
  },
  {
   "cell_type": "code",
   "execution_count": 172,
   "id": "4855839a",
   "metadata": {},
   "outputs": [],
   "source": [
    "new_l = original_l.copy()"
   ]
  },
  {
   "cell_type": "code",
   "execution_count": 173,
   "id": "7e6c1d53",
   "metadata": {},
   "outputs": [],
   "source": [
    "new_l.append(6)"
   ]
  },
  {
   "cell_type": "code",
   "execution_count": 174,
   "id": "9719335e",
   "metadata": {},
   "outputs": [
    {
     "data": {
      "text/plain": [
       "([1, 2, 3, 4, 5], [1, 2, 3, 4, 5, 6])"
      ]
     },
     "execution_count": 174,
     "metadata": {},
     "output_type": "execute_result"
    }
   ],
   "source": [
    "original_l, new_l # both are differnt even we changed new_l elements"
   ]
  },
  {
   "cell_type": "code",
   "execution_count": 175,
   "id": "977fda44",
   "metadata": {},
   "outputs": [],
   "source": [
    "original_li = [1, 2, 3, 4, 5, [1, 2]]"
   ]
  },
  {
   "cell_type": "code",
   "execution_count": 176,
   "id": "57d2b98a",
   "metadata": {},
   "outputs": [],
   "source": [
    "new_li = original_li.copy()"
   ]
  },
  {
   "cell_type": "code",
   "execution_count": 177,
   "id": "a2155751",
   "metadata": {},
   "outputs": [],
   "source": [
    "new_li[-1][-1] = \"anees\" "
   ]
  },
  {
   "cell_type": "code",
   "execution_count": 178,
   "id": "8c7bf29b",
   "metadata": {},
   "outputs": [
    {
     "data": {
      "text/plain": [
       "([1, 2, 3, 4, 5, [1, 'anees']], [1, 2, 3, 4, 5, [1, 'anees']])"
      ]
     },
     "execution_count": 178,
     "metadata": {},
     "output_type": "execute_result"
    }
   ],
   "source": [
    "original_li, new_li # original list also got changed so we are in need of deep copy in this case"
   ]
  },
  {
   "cell_type": "markdown",
   "id": "2ca32fc1",
   "metadata": {},
   "source": [
    "### copy.deepcopy()"
   ]
  },
  {
   "cell_type": "code",
   "execution_count": 179,
   "id": "5f4d96aa",
   "metadata": {},
   "outputs": [],
   "source": [
    "import copy\n",
    "deep_copy = copy.deepcopy(original_li)"
   ]
  },
  {
   "cell_type": "code",
   "execution_count": 180,
   "id": "4e008599",
   "metadata": {},
   "outputs": [],
   "source": [
    "deep_copy[-1][-1] = \"aro\" "
   ]
  },
  {
   "cell_type": "code",
   "execution_count": 181,
   "id": "d1aed0e0",
   "metadata": {},
   "outputs": [
    {
     "data": {
      "text/plain": [
       "([1, 2, 3, 4, 5, [1, 'aro']], [1, 2, 3, 4, 5, [1, 'anees']])"
      ]
     },
     "execution_count": 181,
     "metadata": {},
     "output_type": "execute_result"
    }
   ],
   "source": [
    "deep_copy, original_li"
   ]
  }
 ],
 "metadata": {
  "kernelspec": {
   "display_name": "Python 3 (ipykernel)",
   "language": "python",
   "name": "python3"
  },
  "language_info": {
   "codemirror_mode": {
    "name": "ipython",
    "version": 3
   },
   "file_extension": ".py",
   "mimetype": "text/x-python",
   "name": "python",
   "nbconvert_exporter": "python",
   "pygments_lexer": "ipython3",
   "version": "3.8.16"
  }
 },
 "nbformat": 4,
 "nbformat_minor": 5
}
