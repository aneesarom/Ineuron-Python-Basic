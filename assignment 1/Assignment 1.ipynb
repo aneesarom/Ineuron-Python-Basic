{
 "cells": [
  {
   "cell_type": "raw",
   "id": "e374dd81",
   "metadata": {},
   "source": [
    "1. In the below elements which of them are values or an expression? eg:- values can be integer or string and expressions will be mathematical operators.\n",
    "* \n",
    "'hello'\n",
    "-87.8\n",
    "- \n",
    "/ \n",
    "6 "
   ]
  },
  {
   "cell_type": "raw",
   "id": "008d345c",
   "metadata": {},
   "source": [
    "*: mathematical operator/part of expression\n",
    "\"hello\": value or string\n",
    "-87.8: value or float\n",
    "/: mathematical operator/part of expression\n",
    "6: value or int"
   ]
  },
  {
   "cell_type": "raw",
   "id": "3a885adc",
   "metadata": {},
   "source": [
    "2. What is the difference between string and variable?"
   ]
  },
  {
   "cell_type": "raw",
   "id": "ac4ba75b",
   "metadata": {},
   "source": [
    "string: collection of characters/alphabets/symbols whereas variable is that string/int/float or any data type that can be stored in it "
   ]
  },
  {
   "cell_type": "raw",
   "id": "0c04c2f9",
   "metadata": {},
   "source": [
    "3. Describe three different data types."
   ]
  },
  {
   "cell_type": "raw",
   "id": "1a146c91",
   "metadata": {},
   "source": [
    "int: any whole number without decimal point can be integer\n",
    "float: any decimal value can be float\n",
    "string: collection of characters/alphabets/symbols"
   ]
  },
  {
   "cell_type": "raw",
   "id": "06259ca1",
   "metadata": {},
   "source": [
    "4. What is an expression made up of? What do all expressions do?"
   ]
  },
  {
   "cell_type": "raw",
   "id": "be736884",
   "metadata": {},
   "source": [
    "Expression is made up of operands, operator and variable. Expression is able to do mathematical opertaion like using + we can do addition, using - we can do subtraction etc"
   ]
  },
  {
   "cell_type": "raw",
   "id": "13146d0e",
   "metadata": {},
   "source": [
    "5. This assignment statements, like spam = 10. What is the difference between an expression and a statement?"
   ]
  },
  {
   "cell_type": "raw",
   "id": "7e8da535",
   "metadata": {},
   "source": [
    "expression is combination of operands, operator and variables which can perform some calculation whereas statement is instruction that specifies an action to be carried out"
   ]
  },
  {
   "cell_type": "raw",
   "id": "65bfbdcb",
   "metadata": {},
   "source": [
    "6. After running the following code, what does the variable bacon contain?\n",
    "bacon = 22\n",
    "bacon + 1"
   ]
  },
  {
   "cell_type": "raw",
   "id": "1002eae0",
   "metadata": {},
   "source": [
    "23"
   ]
  },
  {
   "cell_type": "raw",
   "id": "c6139d66",
   "metadata": {},
   "source": [
    "7. What should the values of the following two terms be?\n",
    "'spam' + 'spamspam'\n",
    "'spam' * 3"
   ]
  },
  {
   "cell_type": "raw",
   "id": "3d894835",
   "metadata": {},
   "source": [
    "'spamspamspam'\n",
    "'spamspamspam'\n",
    "\n",
    "both results same"
   ]
  },
  {
   "cell_type": "raw",
   "id": "a1ce129e",
   "metadata": {},
   "source": [
    "8. Why is eggs a valid variable name while 100 is invalid?"
   ]
  },
  {
   "cell_type": "raw",
   "id": "6add97fa",
   "metadata": {},
   "source": [
    "variables should not contain starting letter as number. it can contain starting letter as any charcter or an underscor"
   ]
  },
  {
   "cell_type": "raw",
   "id": "7d78f5b5",
   "metadata": {},
   "source": [
    "9. What three functions can be used to get the integer, floating-point number, or string version of a value?"
   ]
  },
  {
   "cell_type": "raw",
   "id": "6823ca77",
   "metadata": {},
   "source": [
    "int(): converts a value to an integer\n",
    "float(): converts a value to a floating-point number\n",
    "str(): converts a value to a string"
   ]
  },
  {
   "cell_type": "raw",
   "id": "b2e01cb5",
   "metadata": {},
   "source": [
    "10. Why does this expression cause an error? How can you fix it?\n",
    "'I have eaten ' + 99 + ' burritos.'"
   ]
  },
  {
   "cell_type": "raw",
   "id": "5220be4e",
   "metadata": {},
   "source": [
    "we cant concatenate string and int/float. we need to change 99 to \"99\" \n",
    "\n",
    "'I have eaten ' + '99' + ' burritos.'"
   ]
  },
  {
   "cell_type": "code",
   "execution_count": null,
   "id": "3a9177f3",
   "metadata": {},
   "outputs": [],
   "source": []
  }
 ],
 "metadata": {
  "kernelspec": {
   "display_name": "Python 3 (ipykernel)",
   "language": "python",
   "name": "python3"
  },
  "language_info": {
   "codemirror_mode": {
    "name": "ipython",
    "version": 3
   },
   "file_extension": ".py",
   "mimetype": "text/x-python",
   "name": "python",
   "nbconvert_exporter": "python",
   "pygments_lexer": "ipython3",
   "version": "3.8.13"
  }
 },
 "nbformat": 4,
 "nbformat_minor": 5
}
