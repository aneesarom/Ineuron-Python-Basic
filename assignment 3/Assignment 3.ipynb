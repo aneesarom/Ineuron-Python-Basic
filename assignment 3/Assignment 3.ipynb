{
 "cells": [
  {
   "cell_type": "markdown",
   "id": "bb04f9e1",
   "metadata": {},
   "source": [
    "# 1. Why are functions advantageous to have in your programs?"
   ]
  },
  {
   "cell_type": "raw",
   "id": "f2ed55b5",
   "metadata": {},
   "source": [
    "Code Reusability-It avoids repitions of code. We can call functions n number of times. we can import functions from other file as a module."
   ]
  },
  {
   "cell_type": "markdown",
   "id": "8f86b9b8",
   "metadata": {},
   "source": [
    "# 2. When does the code in a function run: when it's specified or when it's called?"
   ]
  },
  {
   "cell_type": "raw",
   "id": "17281217",
   "metadata": {},
   "source": [
    "when its called: when we call function with brackets around it will give results Example: bacon()"
   ]
  },
  {
   "cell_type": "markdown",
   "id": "3660cd51",
   "metadata": {},
   "source": [
    "# 3. What statement creates a function?"
   ]
  },
  {
   "cell_type": "raw",
   "id": "1a6efa66",
   "metadata": {},
   "source": [
    "keyword def Example: def bacon()"
   ]
  },
  {
   "cell_type": "markdown",
   "id": "7c5f7b0c",
   "metadata": {},
   "source": [
    "# 4. What is the difference between a function and a function call?"
   ]
  },
  {
   "cell_type": "raw",
   "id": "6973be7d",
   "metadata": {},
   "source": [
    "Function: which holds peice of code to perform some action when we call it\n",
    "Function call: function itself cant perform action unless we call it with its name and brackets around it\n",
    "\n",
    "Example:\n",
    "\n",
    "Function:\n",
    "\n",
    "def bacon():\n",
    "    print(\"Hi\")\n",
    "\n",
    "Function call:    \n",
    "    \n",
    "bacon()"
   ]
  },
  {
   "cell_type": "markdown",
   "id": "653fda5c",
   "metadata": {},
   "source": [
    "# 5. How many global scopes are there in a Python program? How many local scopes?"
   ]
  },
  {
   "cell_type": "code",
   "execution_count": 66,
   "id": "681a4a84",
   "metadata": {},
   "outputs": [],
   "source": [
    "# It has no types\n",
    "\n",
    "a = 1 #global variable\n",
    "\n",
    "def anees():\n",
    "  b = 3 #local variable\n",
    "  print(b)"
   ]
  },
  {
   "cell_type": "markdown",
   "id": "82175770",
   "metadata": {},
   "source": [
    "# 6. What happens to variables in a local scope when the function call returns?"
   ]
  },
  {
   "cell_type": "raw",
   "id": "2aed770a",
   "metadata": {},
   "source": [
    "local variables are destroyed when the function call returns or ends. local varaible will stay only in its function. we cant access it outside the function"
   ]
  },
  {
   "cell_type": "markdown",
   "id": "f0f63e0f",
   "metadata": {},
   "source": [
    "# 7. What is the concept of a return value? Is it possible to have a return value in an expression?"
   ]
  },
  {
   "cell_type": "raw",
   "id": "7a8999ea",
   "metadata": {},
   "source": [
    "\"Retuns\" is used to return something in a function. it can be any datatype(int, str, float etc). It is not possible to use return value in an expression. We can only use it in condition statement"
   ]
  },
  {
   "cell_type": "markdown",
   "id": "e2f77f86",
   "metadata": {},
   "source": [
    "# 8. If a function does not have a return statement, what is the return value of a call to that function?"
   ]
  },
  {
   "cell_type": "code",
   "execution_count": 67,
   "id": "6e9d6718",
   "metadata": {},
   "outputs": [],
   "source": [
    "None #by default"
   ]
  },
  {
   "cell_type": "code",
   "execution_count": 68,
   "id": "affa629e",
   "metadata": {},
   "outputs": [
    {
     "name": "stdout",
     "output_type": "stream",
     "text": [
      "3\n",
      "None\n"
     ]
    }
   ],
   "source": [
    "print(anees())"
   ]
  },
  {
   "cell_type": "markdown",
   "id": "a43e311e",
   "metadata": {},
   "source": [
    "# 9. How do you make a function variable refer to the global variable?"
   ]
  },
  {
   "cell_type": "code",
   "execution_count": 69,
   "id": "13baa4e0",
   "metadata": {},
   "outputs": [],
   "source": [
    "def anees():\n",
    "    global b # using global keyword \n",
    "    b = 3\n",
    "    print(b)"
   ]
  },
  {
   "cell_type": "raw",
   "id": "0bc0f877",
   "metadata": {},
   "source": [
    "using global keyword"
   ]
  },
  {
   "cell_type": "markdown",
   "id": "1ab655ad",
   "metadata": {},
   "source": [
    "# 10. What is the data type of None?"
   ]
  },
  {
   "cell_type": "raw",
   "id": "d5cabd53",
   "metadata": {},
   "source": [
    "NoneType"
   ]
  },
  {
   "cell_type": "markdown",
   "id": "5653726e",
   "metadata": {},
   "source": [
    "# 11. What does the sentence import areallyourpetsnamederic do?"
   ]
  },
  {
   "cell_type": "raw",
   "id": "a40816ad",
   "metadata": {},
   "source": [
    "It will import the areallyourpetsnamederic.py file to our program. after importing it we can use its methods/function"
   ]
  },
  {
   "cell_type": "markdown",
   "id": "60806a4b",
   "metadata": {},
   "source": [
    "# 12. If you had a bacon() feature in a spam module, what would you call it after importing spam?"
   ]
  },
  {
   "cell_type": "code",
   "execution_count": 70,
   "id": "a3c4bfc8",
   "metadata": {},
   "outputs": [
    {
     "name": "stdout",
     "output_type": "stream",
     "text": [
      "hi\n"
     ]
    }
   ],
   "source": [
    "import spam\n",
    "\n",
    "spam.bacon() # using import spam.py  file we can access its function by using . method"
   ]
  },
  {
   "cell_type": "markdown",
   "id": "3a074c57",
   "metadata": {},
   "source": [
    "# 13. What can you do to save a programme from crashing if it encounters an error?"
   ]
  },
  {
   "cell_type": "raw",
   "id": "a71b5d89",
   "metadata": {},
   "source": [
    "Exception handling: Using try and except\n",
    "Validation: validate the user input return something if he entered wrong"
   ]
  },
  {
   "cell_type": "markdown",
   "id": "314c1f9d",
   "metadata": {},
   "source": [
    "# 14. What is the purpose of the try clause? What is the purpose of the except clause?"
   ]
  },
  {
   "cell_type": "raw",
   "id": "906c235a",
   "metadata": {},
   "source": [
    "try: run the block of code. if it returns error skip the following code, use the block of code in except. except only runs if try fails"
   ]
  },
  {
   "cell_type": "code",
   "execution_count": null,
   "id": "f7a92dd3",
   "metadata": {},
   "outputs": [],
   "source": []
  }
 ],
 "metadata": {
  "kernelspec": {
   "display_name": "Python 3 (ipykernel)",
   "language": "python",
   "name": "python3"
  },
  "language_info": {
   "codemirror_mode": {
    "name": "ipython",
    "version": 3
   },
   "file_extension": ".py",
   "mimetype": "text/x-python",
   "name": "python",
   "nbconvert_exporter": "python",
   "pygments_lexer": "ipython3",
   "version": "3.8.13"
  }
 },
 "nbformat": 4,
 "nbformat_minor": 5
}
